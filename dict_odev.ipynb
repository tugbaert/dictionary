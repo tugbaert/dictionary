{
 "cells": [
  {
   "cell_type": "markdown",
   "metadata": {},
   "source": [
    "### Ödev 1\n",
    "\n",
    "Bir sözlük oluşturulur ve bu sözlükte öğrencilerin isimleri ve Matematik, Fizik, Kimya notları tutulur. Kullanıcıdan isim ve ders ismi(Matematik, Fizik, Kimya) istenir ve bu bilgilere göre çıktı verilir."
   ]
  },
  {
   "cell_type": "code",
   "execution_count": 8,
   "metadata": {},
   "outputs": [
    {
     "data": {
      "text/plain": [
       "90"
      ]
     },
     "execution_count": 8,
     "metadata": {},
     "output_type": "execute_result"
    }
   ],
   "source": [
    "sözlük= {\"Ayşe\":{\"Matemati\":70, \"Fizik\":80, \"Kimya\":99},\n",
    "         \"Ahmet\":{\"Matematik\":50, \"Fizik\":90, \"Kimya\":95},\n",
    "         \"Ömer\":{\"Matematik\":100, \"Fizik\":98, \"Kimya\":85},\n",
    "         \"Tuğba\":{\"Matematik\":10, \"Fizik\":5, \"Kimya\":96} }\n",
    "sözlük\n",
    "isim=input(\"Öğrenci adını giriniz: \")\n",
    "ders=input(\"Notunu öğrenmek istediğiniz dersi giriniz: \")\n",
    "sözlük[isim][ders]"
   ]
  },
  {
   "cell_type": "markdown",
   "metadata": {},
   "source": [
    "### Ödev 2\n",
    "\n",
    "Sözlük üzerinde değerleri değiştirme, yeni değer ekleme, kullanıcıya ulaşmak istediği bilgileri sorma gibi uygulamalar yapın."
   ]
  },
  {
   "cell_type": "code",
   "execution_count": 10,
   "metadata": {},
   "outputs": [
    {
     "data": {
      "text/plain": [
       "{'Ayşe': {'Matemati': 70, 'Fizik': 80, 'Kimya': 99},\n",
       " 'Ahmet': {'Matematik': 50, 'Fizik': 90, 'Kimya': 95},\n",
       " 'Ömer': {'Matematik': 100, 'Fizik': 98, 'Kimya': 94},\n",
       " 'Tuğba': {'Matematik': 100, 'Fizik': 87, 'Kimya': 96},\n",
       " 'Kerim': {'Matematik': 3, 'Fizik': 2, 'Kimya': 1}}"
      ]
     },
     "execution_count": 10,
     "metadata": {},
     "output_type": "execute_result"
    }
   ],
   "source": [
    "sözlük[\"Tuğba\"][\"Matematik\"]=100\n",
    "sözlük[\"Tuğba\"][\"Fizik\"]=87\n",
    "sözlük[\"Kerim\"]={\"Matematik\":3, \"Fizik\":2, \"Kimya\":1}\n",
    "sözlük[\"Ömer\"][\"Kimya\"]=94\n",
    "sözlük"
   ]
  },
  {
   "cell_type": "code",
   "execution_count": 11,
   "metadata": {},
   "outputs": [
    {
     "name": "stdout",
     "output_type": "stream",
     "text": [
      "Tuğba nin Fizik notu 87\n",
      "Ömer nin Kimya notu 94\n"
     ]
    }
   ],
   "source": [
    "def ulas(isim,ders):\n",
    "    print(isim+\" nin \"+ders+ \" notu \"+str(sözlük[isim][ders]))\n",
    "while True:\n",
    "    ulas(input(\"Öğrenci adını giriniz: \"),input(\"Notunu öğrenmek istediğiniz dersi giriniz: \"))\n",
    "    kontrol=input(\"Çıkmak için -1 e basın devam için herhangi bir tuşa basın!\")\n",
    "    if kontrol==\"-1\":\n",
    "        break"
   ]
  }
 ],
 "metadata": {
  "kernelspec": {
   "display_name": "Python 3",
   "language": "python",
   "name": "python3"
  },
  "language_info": {
   "codemirror_mode": {
    "name": "ipython",
    "version": 3
   },
   "file_extension": ".py",
   "mimetype": "text/x-python",
   "name": "python",
   "nbconvert_exporter": "python",
   "pygments_lexer": "ipython3",
   "version": "3.12.1"
  }
 },
 "nbformat": 4,
 "nbformat_minor": 2
}
